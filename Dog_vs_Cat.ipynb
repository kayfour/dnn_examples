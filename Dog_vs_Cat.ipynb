{
  "nbformat": 4,
  "nbformat_minor": 0,
  "metadata": {
    "colab": {
      "name": "Dog-vs-Cat.ipynb",
      "provenance": [],
      "authorship_tag": "ABX9TyMuOCVCf/4bPZevCp/CQ0x6",
      "include_colab_link": true
    },
    "kernelspec": {
      "name": "python3",
      "display_name": "Python 3"
    },
    "accelerator": "GPU"
  },
  "cells": [
    {
      "cell_type": "markdown",
      "metadata": {
        "id": "view-in-github",
        "colab_type": "text"
      },
      "source": [
        "<a href=\"https://colab.research.google.com/github/kisuya/dnn_examples/blob/main/Dog_vs_Cat.ipynb\" target=\"_parent\"><img src=\"https://colab.research.google.com/assets/colab-badge.svg\" alt=\"Open In Colab\"/></a>"
      ]
    },
    {
      "cell_type": "markdown",
      "metadata": {
        "id": "FUEVOmMRZup-"
      },
      "source": [
        "References.\n",
        "* https://colab.research.google.com/github/lmoroney/mlday-tokyo/blob/master/Lab6-Cats-v-Dogs.ipynb#scrollTo=MWZrJN4-65RC\n",
        "* https://machinelearningmastery.com/how-to-develop-a-convolutional-neural-network-to-classify-photos-of-dogs-and-cats/\n",
        "* https://tensorflow.google.cn/tutorials/images/transfer_learning_with_hub?hl=ko#%EC%84%A4%EC%B9%98%ED%95%98%EA%B8%B0\n",
        "* https://www.tensorflow.org/guide/keras/save_and_serialize?hl=ko\n",
        "* https://blog.keras.io/building-powerful-image-classification-models-using-very-little-data.html\n"
      ]
    },
    {
      "cell_type": "code",
      "metadata": {
        "id": "S5uG0X82NaVB"
      },
      "source": [
        "import sys\n",
        "import os\n",
        "import zipfile\n",
        "import random\n",
        "import tensorflow as tf\n",
        "from tensorflow.keras.optimizers import RMSprop\n",
        "from tensorflow.keras.preprocessing.image import ImageDataGenerator\n",
        "from shutil import copyfile\n",
        "from matplotlib import pyplot"
      ],
      "execution_count": null,
      "outputs": []
    },
    {
      "cell_type": "code",
      "metadata": {
        "id": "U0bCjsdRLNwv"
      },
      "source": [
        "# If the URL doesn't work, visit https://www.microsoft.com/en-us/download/confirmation.aspx?id=54765\n",
        "# And right click on the 'Download Manually' link to get a new URL to the dataset\n",
        "\n",
        "# Note: This is a very large dataset and will take time to download\n",
        "\n",
        "!wget --no-check-certificate \\\n",
        "    \"https://download.microsoft.com/download/3/E/1/3E1C3F21-ECDB-4869-8368-6DEBA77B919F/kagglecatsanddogs_3367a.zip\" \\\n",
        "    -O \"/tmp/cats-and-dogs.zip\"\n",
        "\n",
        "local_zip = '/tmp/cats-and-dogs.zip'\n",
        "zip_ref   = zipfile.ZipFile(local_zip, 'r')\n",
        "zip_ref.extractall('/tmp')\n",
        "zip_ref.close()"
      ],
      "execution_count": null,
      "outputs": []
    },
    {
      "cell_type": "code",
      "metadata": {
        "id": "n4HF6kV4LOsR"
      },
      "source": [
        "print(len(os.listdir('/tmp/PetImages/Cat/')))\n",
        "print(len(os.listdir('/tmp/PetImages/Dog/')))\n",
        "\n",
        "# Expected Output:\n",
        "# 12501\n",
        "# 12501"
      ],
      "execution_count": null,
      "outputs": []
    },
    {
      "cell_type": "code",
      "metadata": {
        "id": "jogaH5z8LRiu"
      },
      "source": [
        "try:\n",
        "    os.mkdir('/tmp/cats-v-dogs')\n",
        "    os.mkdir('/tmp/cats-v-dogs/train')\n",
        "    os.mkdir('/tmp/cats-v-dogs/test')\n",
        "    os.mkdir('/tmp/cats-v-dogs/train/cats')\n",
        "    os.mkdir('/tmp/cats-v-dogs/train/dogs')\n",
        "    os.mkdir('/tmp/cats-v-dogs/test/cats')\n",
        "    os.mkdir('/tmp/cats-v-dogs/test/dogs')\n",
        "except OSError:\n",
        "    pass"
      ],
      "execution_count": null,
      "outputs": []
    },
    {
      "cell_type": "code",
      "metadata": {
        "id": "rFCjnFu2NuX5"
      },
      "source": [
        "def split_data(SOURCE, TRAINING, TESTING, SPLIT_SIZE):\n",
        "    files = []\n",
        "    for filename in os.listdir(SOURCE):\n",
        "        file = SOURCE + filename\n",
        "        if os.path.getsize(file) > 0:\n",
        "            files.append(filename)\n",
        "        else:\n",
        "            print(filename + \" is zero length, so ignoring.\")\n",
        "\n",
        "    training_length = int(len(files) * SPLIT_SIZE)\n",
        "    testing_length = int(len(files) - training_length)\n",
        "    shuffled_set = random.sample(files, len(files))\n",
        "    training_set = shuffled_set[0:training_length]\n",
        "    testing_set = shuffled_set[-testing_length:]\n",
        "\n",
        "    for filename in training_set:\n",
        "        this_file = SOURCE + filename\n",
        "        destination = TRAINING + filename\n",
        "        copyfile(this_file, destination)\n",
        "\n",
        "    for filename in testing_set:\n",
        "        this_file = SOURCE + filename\n",
        "        destination = TESTING + filename\n",
        "        copyfile(this_file, destination)"
      ],
      "execution_count": null,
      "outputs": []
    },
    {
      "cell_type": "code",
      "metadata": {
        "id": "sAiSGL_4OCSi"
      },
      "source": [
        "CAT_SOURCE_DIR = \"/tmp/PetImages/Cat/\"\n",
        "TRAIN_CATS_DIR = \"/tmp/cats-v-dogs/train/cats/\"\n",
        "TEST_CATS_DIR = \"/tmp/cats-v-dogs/test/cats/\"\n",
        "DOG_SOURCE_DIR = \"/tmp/PetImages/Dog/\"\n",
        "TRAIN_DOGS_DIR = \"/tmp/cats-v-dogs/train/dogs/\"\n",
        "TEST_DOGS_DIR = \"/tmp/cats-v-dogs/test/dogs/\"\n",
        "\n",
        "split_size = .9\n",
        "split_data(CAT_SOURCE_DIR, TRAIN_CATS_DIR, TEST_CATS_DIR, split_size)\n",
        "split_data(DOG_SOURCE_DIR, TRAIN_DOGS_DIR, TEST_DOGS_DIR, split_size)\n",
        "\n",
        "# Expected output\n",
        "# 666.jpg is zero length, so ignoring\n",
        "# 11702.jpg is zero length, so ignoring"
      ],
      "execution_count": null,
      "outputs": []
    },
    {
      "cell_type": "code",
      "metadata": {
        "id": "e5OxXH8eOZIP"
      },
      "source": [
        "print(len(os.listdir('/tmp/cats-v-dogs/train/cats/')))\n",
        "print(len(os.listdir('/tmp/cats-v-dogs/train/dogs/')))\n",
        "print(len(os.listdir('/tmp/cats-v-dogs/test/cats/')))\n",
        "print(len(os.listdir('/tmp/cats-v-dogs/test/dogs/')))\n",
        "\n",
        "# Expected output:\n",
        "# 11250\n",
        "# 11250\n",
        "# 1250\n",
        "# 1250"
      ],
      "execution_count": null,
      "outputs": []
    },
    {
      "cell_type": "code",
      "metadata": {
        "id": "b0gdBUivOnMR"
      },
      "source": [
        "!apt-get install tree"
      ],
      "execution_count": null,
      "outputs": []
    },
    {
      "cell_type": "code",
      "metadata": {
        "id": "aGm_IebYOo-6"
      },
      "source": [
        " !tree -d /tmp"
      ],
      "execution_count": null,
      "outputs": []
    },
    {
      "cell_type": "code",
      "metadata": {
        "id": "Cp1eg1CiPII_"
      },
      "source": [
        "#input dimension\n",
        "IMG_CHANNELS = 3\n",
        "IMG_ROWS = 150\n",
        "IMG_COLS = 150\n",
        "\n",
        "#constant\n",
        "BATCH_SIZE = 128\n",
        "EPOCHS = 5\n",
        "\n",
        "model = tf.keras.models.Sequential([\n",
        "    tf.keras.layers.Conv2D(16, (3, 3), activation='relu', input_shape=(IMG_ROWS, IMG_COLS, IMG_CHANNELS)),\n",
        "    tf.keras.layers.MaxPooling2D(2, 2),\n",
        "    tf.keras.layers.Conv2D(32, (3, 3), activation='relu'),\n",
        "    tf.keras.layers.MaxPooling2D(2, 2),\n",
        "    tf.keras.layers.Flatten(),\n",
        "    tf.keras.layers.Dense(128, activation='relu'),\n",
        "    tf.keras.layers.Dense(1, activation='sigmoid')\n",
        "])\n",
        "\n",
        "model.compile(optimizer=RMSprop(lr=0.001), loss='binary_crossentropy', metrics=['acc'])"
      ],
      "execution_count": null,
      "outputs": []
    },
    {
      "cell_type": "code",
      "metadata": {
        "id": "6B9e63GxPnC0"
      },
      "source": [
        "TRAIN_DIR = \"/tmp/cats-v-dogs/train/\"\n",
        "train_datagen = ImageDataGenerator(rescale=1.0/255.)\n",
        "train_generator = train_datagen.flow_from_directory(TRAIN_DIR,\n",
        "                                                    batch_size=BATCH_SIZE,\n",
        "                                                    class_mode='binary',\n",
        "                                                    target_size=(IMG_ROWS, IMG_COLS))\n",
        "\n",
        "TEST_DIR = \"/tmp/cats-v-dogs/test/\"\n",
        "validation_datagen = ImageDataGenerator(rescale=1.0/255.)\n",
        "validation_generator = validation_datagen.flow_from_directory(TEST_DIR,\n",
        "                                                              batch_size=BATCH_SIZE,\n",
        "                                                              class_mode='binary',\n",
        "                                                              target_size=(IMG_ROWS, IMG_COLS))\n",
        "\n",
        "# Expected Output:\n",
        "# Found 22498 images belonging to 2 classes.\n",
        "# Found 2500 images belonging to 2 classes."
      ],
      "execution_count": null,
      "outputs": []
    },
    {
      "cell_type": "code",
      "metadata": {
        "id": "lbuXgHnzQyLk"
      },
      "source": [
        "train_generator.class_indices"
      ],
      "execution_count": null,
      "outputs": []
    },
    {
      "cell_type": "code",
      "metadata": {
        "id": "exVjR-M-Q8Kf"
      },
      "source": [
        "history = model.fit(\n",
        "        train_generator,\n",
        "        steps_per_epoch= len(train_generator),        \n",
        "        validation_data=validation_generator,\n",
        "        validation_steps=len(validation_generator),\n",
        "        epochs=EPOCHS)"
      ],
      "execution_count": null,
      "outputs": []
    },
    {
      "cell_type": "code",
      "metadata": {
        "id": "sL2pzs_iRmsm"
      },
      "source": [
        "# evaluate model\n",
        "_, acc = model.evaluate(validation_generator, steps=len(validation_generator), verbose=0)\n",
        "print('Test accuracy : %.3f' % (acc * 100.0))"
      ],
      "execution_count": null,
      "outputs": []
    },
    {
      "cell_type": "code",
      "metadata": {
        "id": "UO2sw5qQaP6T"
      },
      "source": [
        "# plot diagnostic learning curves\n",
        "def summarize_diagnostics(history):\n",
        "  # plot loss\n",
        "  # pyplot.subplot(211)\n",
        "  pyplot.title('Cross Entropy Loss')\n",
        "  pyplot.plot(history.history['loss'], color='blue', label='train')\n",
        "  pyplot.plot(history.history['val_loss'], color='orange', label='test')\n",
        "  pyplot.figure()\n",
        "\n",
        "  # plot accuracy\n",
        "  # pyplot.subplot(212)\n",
        "  pyplot.title('Classification Accuracy')\n",
        "  pyplot.plot(history.history['acc'], color='blue', label='train')\n",
        "  pyplot.plot(history.history['val_acc'], color='orange', label='test')\n",
        "  pyplot.figure()"
      ],
      "execution_count": null,
      "outputs": []
    },
    {
      "cell_type": "code",
      "metadata": {
        "id": "sFo82vWscdVC"
      },
      "source": [
        "summarize_diagnostics(history)"
      ],
      "execution_count": null,
      "outputs": []
    },
    {
      "cell_type": "code",
      "metadata": {
        "id": "h6pvSBzFbx5h"
      },
      "source": [
        "import time\n",
        "t = time.time()\n",
        "\n",
        "export_file = \"/tmp/saved_models/mymodel_{}.hdf5\".format(int(t))\n",
        "model.save(export_file)\n",
        "export_file"
      ],
      "execution_count": null,
      "outputs": []
    },
    {
      "cell_type": "code",
      "metadata": {
        "id": "lCcIkOnidhye"
      },
      "source": [
        "reconstructed_model = tf.keras.models.load_model(export_file)"
      ],
      "execution_count": null,
      "outputs": []
    },
    {
      "cell_type": "code",
      "metadata": {
        "id": "DWiIyXKieq45"
      },
      "source": [
        "_, acc = reconstructed_model.evaluate(validation_generator, steps=len(validation_generator), verbose=0)\n",
        "print('Test accuracy : %.3f' % (acc * 100.0))"
      ],
      "execution_count": null,
      "outputs": []
    }
  ]
}